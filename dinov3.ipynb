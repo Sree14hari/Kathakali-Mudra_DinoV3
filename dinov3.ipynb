{
 "cells": [
  {
   "cell_type": "code",
   "execution_count": 1,
   "id": "2979b028",
   "metadata": {},
   "outputs": [
    {
     "name": "stdout",
     "output_type": "stream",
     "text": [
      "Using device: cuda\n"
     ]
    }
   ],
   "source": [
    "# =============================================================================\n",
    "# THREE-STAGE DINOV3 FINE-TUNING SCRIPT\n",
    "# =============================================================================\n",
    "# This script is designed to be run in a notebook-like environment (e.g., Jupyter, VSCode)\n",
    "# where each major section (marked as \"CELL\") is executed sequentially.\n",
    "\n",
    "import torch\n",
    "import torch.nn as nn\n",
    "import torch.optim as optim\n",
    "from torch.utils.data import DataLoader, random_split, Subset\n",
    "from torchvision import datasets, transforms\n",
    "from transformers import AutoModel\n",
    "from sklearn.metrics import accuracy_score, classification_report\n",
    "from tqdm import tqdm\n",
    "import os\n",
    "import time\n",
    "\n",
    "# =============================================================================\n",
    "# CELL 0: SHARED CONFIGURATION AND SETUP\n",
    "# =============================================================================\n",
    "\n",
    "# --- Main Configuration for All Stages (Updated as per your request) ---\n",
    "config = {\n",
    "    # CORRECTED: Point this to the main folder containing your class subdirectories (e.g., Alarippu, Jathiswaram)\n",
    "    'base_dir': r'images',\n",
    "    'model_name': 'facebook/dinov3-convnext-tiny-pretrain-lvd1689m',\n",
    "    'img_size': 224,\n",
    "    'num_workers': 0,\n",
    "\n",
    "    # Stage 1: Head Training\n",
    "    'stage1_save_path': r'stage1_head_trained.pth',\n",
    "    'stage1_epochs': 15,\n",
    "    'stage1_lr': 1e-3,\n",
    "    'stage1_batch_size': 32,\n",
    "\n",
    "    # Stage 2: Full Network Training\n",
    "    'stage2_load_path': r'stage1_head_trained.pth',\n",
    "    'stage2_save_path': r'stage2_full_trained.pth',\n",
    "    'stage2_epochs': 30,\n",
    "    'stage2_lr': 1e-4,\n",
    "    'stage2_batch_size': 16,\n",
    "    'stage2_patience': 7,\n",
    "\n",
    "    # Stage 3: Fine-tuning\n",
    "    'stage3_load_path': r'stage2_full_trained.pth',\n",
    "    'stage3_save_path': r'best_finetuned_model.pth', # Final model\n",
    "    'stage3_epochs': 25,\n",
    "    'stage3_lr': 1e-5,\n",
    "    'stage3_batch_size': 16,\n",
    "    'stage3_patience': 5,\n",
    "}\n",
    "\n",
    "device = torch.device('cuda' if torch.cuda.is_available() else 'cpu')\n",
    "print(f\"Using device: {device}\")\n",
    "\n",
    "# --- Shared Functions ---\n",
    "\n",
    "# CORRECTED: This function now automatically splits your data\n",
    "def get_data_loaders(base_dir, img_size, batch_size, num_workers):\n",
    "    \"\"\"\n",
    "    Loads images from a single directory and automatically splits them into\n",
    "    training, validation, and test sets.\n",
    "    \"\"\"\n",
    "    # Define separate transforms for training (with augmentation) and validation/testing\n",
    "    train_transform = transforms.Compose([\n",
    "        transforms.Resize((img_size, img_size)),\n",
    "        transforms.RandomHorizontalFlip(),\n",
    "        transforms.RandomRotation(15),\n",
    "        transforms.ColorJitter(brightness=0.3, contrast=0.3, saturation=0.2),\n",
    "        transforms.ToTensor(),\n",
    "        transforms.Normalize(mean=[0.485, 0.456, 0.406], std=[0.229, 0.224, 0.225]),\n",
    "    ])\n",
    "    \n",
    "    val_test_transform = transforms.Compose([\n",
    "        transforms.Resize((img_size, img_size)),\n",
    "        transforms.ToTensor(),\n",
    "        transforms.Normalize(mean=[0.485, 0.456, 0.406], std=[0.229, 0.224, 0.225]),\n",
    "    ])\n",
    "\n",
    "    # To apply different transforms, we create two dataset instances from the same folder\n",
    "    # This is a standard and effective way to handle this in PyTorch.\n",
    "    dataset_for_training = datasets.ImageFolder(root=base_dir, transform=train_transform)\n",
    "    dataset_for_eval = datasets.ImageFolder(root=base_dir, transform=val_test_transform)\n",
    "\n",
    "    # Define split sizes (e.g., 70% train, 15% validation, 15% test)\n",
    "    total_size = len(dataset_for_training)\n",
    "    train_size = int(0.7 * total_size)\n",
    "    val_size = int(0.15 * total_size)\n",
    "    test_size = total_size - train_size - val_size\n",
    "\n",
    "    print(f\"Splitting {total_size} total images into: {train_size} Train, {val_size} Val, {test_size} Test\")\n",
    "\n",
    "    # Split the indices of the dataset\n",
    "    indices = list(range(total_size))\n",
    "    # It's good practice to shuffle before splitting\n",
    "    import random\n",
    "    random.seed(42) # for reproducibility\n",
    "    random.shuffle(indices)\n",
    "    \n",
    "    train_indices = indices[:train_size]\n",
    "    val_indices = indices[train_size : train_size + val_size]\n",
    "    test_indices = indices[train_size + val_size :]\n",
    "\n",
    "    # Create Subset objects with the correct underlying dataset (and thus transform)\n",
    "    train_dataset = Subset(dataset_for_training, train_indices)\n",
    "    val_dataset = Subset(dataset_for_eval, val_indices)\n",
    "    test_dataset = Subset(dataset_for_eval, test_indices)\n",
    "\n",
    "    # Create DataLoaders\n",
    "    train_loader = DataLoader(train_dataset, batch_size=batch_size, shuffle=True, num_workers=num_workers, pin_memory=True)\n",
    "    val_loader = DataLoader(val_dataset, batch_size=batch_size, shuffle=False, num_workers=num_workers, pin_memory=True)\n",
    "    test_loader = DataLoader(test_dataset, batch_size=batch_size, shuffle=False, num_workers=num_workers, pin_memory=True)\n",
    "\n",
    "    num_classes = len(dataset_for_training.classes)\n",
    "    class_names = dataset_for_training.classes\n",
    "\n",
    "    return train_loader, val_loader, test_loader, num_classes, class_names\n",
    "\n",
    "\n",
    "class TransformersClassifier(nn.Module):\n",
    "    \"\"\"Wrapper for Hugging Face models with a custom classification head.\"\"\"\n",
    "    def __init__(self, model_name, num_classes, drop_rate=0.1):\n",
    "        super().__init__()\n",
    "        self.backbone = AutoModel.from_pretrained(model_name)\n",
    "        feature_dim = self.backbone.config.hidden_sizes[-1]\n",
    "        self.classifier = nn.Sequential(\n",
    "            nn.Linear(feature_dim, 512), nn.BatchNorm1d(512),\n",
    "            nn.GELU(), nn.Dropout(drop_rate), nn.Linear(512, num_classes)\n",
    "        )\n",
    "    def forward(self, x):\n",
    "        outputs = self.backbone(pixel_values=x)\n",
    "        features = torch.mean(outputs.last_hidden_state, dim=1)\n",
    "        return self.classifier(features)\n",
    "\n",
    "def train_one_epoch(model, loader, optimizer, criterion, device, desc=\"\"):\n",
    "    \"\"\"Generic training loop for one epoch.\"\"\"\n",
    "    model.train()\n",
    "    total_loss = 0\n",
    "    for inputs, labels in tqdm(loader, desc=f\"Training ({desc})\"):\n",
    "        inputs, labels = inputs.to(device), labels.to(device)\n",
    "        optimizer.zero_grad()\n",
    "        outputs = model(inputs)\n",
    "        loss = criterion(outputs, labels)\n",
    "        loss.backward()\n",
    "        optimizer.step()\n",
    "        total_loss += loss.item()\n",
    "    return total_loss / len(loader)\n",
    "\n",
    "def validate(model, loader, criterion, device, desc=\"\"):\n",
    "    \"\"\"Generic validation loop.\"\"\"\n",
    "    model.eval()\n",
    "    total_loss = 0\n",
    "    all_preds, all_labels = [], []\n",
    "    with torch.no_grad():\n",
    "        for inputs, labels in tqdm(loader, desc=f\"Validating ({desc})\"):\n",
    "            inputs, labels = inputs.to(device), labels.to(device)\n",
    "            outputs = model(inputs)\n",
    "            loss = criterion(outputs, labels)\n",
    "            total_loss += loss.item()\n",
    "            all_preds.extend(outputs.argmax(1).cpu().numpy())\n",
    "            all_labels.extend(labels.cpu().numpy())\n",
    "    accuracy = accuracy_score(all_labels, all_preds)\n",
    "    return total_loss / len(loader), accuracy\n"
   ]
  },
  {
   "cell_type": "code",
   "execution_count": 2,
   "id": "3f698037",
   "metadata": {},
   "outputs": [
    {
     "name": "stdout",
     "output_type": "stream",
     "text": [
      "\n",
      "================================================================================\n",
      "               ### EXECUTING CELL 1: STAGE 1 - HEAD TRAINING ###                \n",
      "================================================================================\n",
      "Splitting 928 total images into: 649 Train, 139 Val, 140 Test\n",
      "Freezing backbone layers for head training...\n",
      "\n",
      "--- Stage 1, Epoch 1/15 ---\n"
     ]
    },
    {
     "name": "stderr",
     "output_type": "stream",
     "text": [
      "Training (Head): 100%|██████████| 21/21 [01:09<00:00,  3.30s/it]\n",
      "Validating (Head): 100%|██████████| 5/5 [00:14<00:00,  2.89s/it]\n"
     ]
    },
    {
     "name": "stdout",
     "output_type": "stream",
     "text": [
      "Train Loss: 2.9148 | Val Loss: 2.6669, Val Acc: 19.42%\n",
      "🎉 New best val acc: 19.42%. Saving model...\n",
      "\n",
      "--- Stage 1, Epoch 2/15 ---\n"
     ]
    },
    {
     "name": "stderr",
     "output_type": "stream",
     "text": [
      "Training (Head): 100%|██████████| 21/21 [00:59<00:00,  2.82s/it]\n",
      "Validating (Head): 100%|██████████| 5/5 [00:12<00:00,  2.43s/it]\n"
     ]
    },
    {
     "name": "stdout",
     "output_type": "stream",
     "text": [
      "Train Loss: 2.1093 | Val Loss: 2.3122, Val Acc: 30.22%\n",
      "🎉 New best val acc: 30.22%. Saving model...\n",
      "\n",
      "--- Stage 1, Epoch 3/15 ---\n"
     ]
    },
    {
     "name": "stderr",
     "output_type": "stream",
     "text": [
      "Training (Head): 100%|██████████| 21/21 [00:58<00:00,  2.77s/it]\n",
      "Validating (Head): 100%|██████████| 5/5 [00:12<00:00,  2.48s/it]\n"
     ]
    },
    {
     "name": "stdout",
     "output_type": "stream",
     "text": [
      "Train Loss: 1.6822 | Val Loss: 2.0731, Val Acc: 35.25%\n",
      "🎉 New best val acc: 35.25%. Saving model...\n",
      "\n",
      "--- Stage 1, Epoch 4/15 ---\n"
     ]
    },
    {
     "name": "stderr",
     "output_type": "stream",
     "text": [
      "Training (Head): 100%|██████████| 21/21 [00:58<00:00,  2.79s/it]\n",
      "Validating (Head): 100%|██████████| 5/5 [00:12<00:00,  2.48s/it]\n"
     ]
    },
    {
     "name": "stdout",
     "output_type": "stream",
     "text": [
      "Train Loss: 1.4391 | Val Loss: 2.0422, Val Acc: 34.53%\n",
      "\n",
      "--- Stage 1, Epoch 5/15 ---\n"
     ]
    },
    {
     "name": "stderr",
     "output_type": "stream",
     "text": [
      "Training (Head): 100%|██████████| 21/21 [00:59<00:00,  2.83s/it]\n",
      "Validating (Head): 100%|██████████| 5/5 [00:12<00:00,  2.52s/it]\n"
     ]
    },
    {
     "name": "stdout",
     "output_type": "stream",
     "text": [
      "Train Loss: 1.2645 | Val Loss: 1.8182, Val Acc: 43.88%\n",
      "🎉 New best val acc: 43.88%. Saving model...\n",
      "\n",
      "--- Stage 1, Epoch 6/15 ---\n"
     ]
    },
    {
     "name": "stderr",
     "output_type": "stream",
     "text": [
      "Training (Head): 100%|██████████| 21/21 [00:58<00:00,  2.76s/it]\n",
      "Validating (Head): 100%|██████████| 5/5 [00:11<00:00,  2.38s/it]\n"
     ]
    },
    {
     "name": "stdout",
     "output_type": "stream",
     "text": [
      "Train Loss: 1.0905 | Val Loss: 1.7449, Val Acc: 45.32%\n",
      "🎉 New best val acc: 45.32%. Saving model...\n",
      "\n",
      "--- Stage 1, Epoch 7/15 ---\n"
     ]
    },
    {
     "name": "stderr",
     "output_type": "stream",
     "text": [
      "Training (Head): 100%|██████████| 21/21 [00:57<00:00,  2.74s/it]\n",
      "Validating (Head): 100%|██████████| 5/5 [00:12<00:00,  2.43s/it]\n"
     ]
    },
    {
     "name": "stdout",
     "output_type": "stream",
     "text": [
      "Train Loss: 1.0295 | Val Loss: 1.7656, Val Acc: 45.32%\n",
      "\n",
      "--- Stage 1, Epoch 8/15 ---\n"
     ]
    },
    {
     "name": "stderr",
     "output_type": "stream",
     "text": [
      "Training (Head): 100%|██████████| 21/21 [00:58<00:00,  2.79s/it]\n",
      "Validating (Head): 100%|██████████| 5/5 [00:12<00:00,  2.50s/it]\n"
     ]
    },
    {
     "name": "stdout",
     "output_type": "stream",
     "text": [
      "Train Loss: 0.8922 | Val Loss: 1.7047, Val Acc: 49.64%\n",
      "🎉 New best val acc: 49.64%. Saving model...\n",
      "\n",
      "--- Stage 1, Epoch 9/15 ---\n"
     ]
    },
    {
     "name": "stderr",
     "output_type": "stream",
     "text": [
      "Training (Head): 100%|██████████| 21/21 [00:58<00:00,  2.81s/it]\n",
      "Validating (Head): 100%|██████████| 5/5 [00:12<00:00,  2.49s/it]\n"
     ]
    },
    {
     "name": "stdout",
     "output_type": "stream",
     "text": [
      "Train Loss: 0.8333 | Val Loss: 1.6530, Val Acc: 46.76%\n",
      "\n",
      "--- Stage 1, Epoch 10/15 ---\n"
     ]
    },
    {
     "name": "stderr",
     "output_type": "stream",
     "text": [
      "Training (Head): 100%|██████████| 21/21 [00:59<00:00,  2.83s/it]\n",
      "Validating (Head): 100%|██████████| 5/5 [00:14<00:00,  2.85s/it]\n"
     ]
    },
    {
     "name": "stdout",
     "output_type": "stream",
     "text": [
      "Train Loss: 0.8002 | Val Loss: 1.6885, Val Acc: 41.01%\n",
      "\n",
      "--- Stage 1, Epoch 11/15 ---\n"
     ]
    },
    {
     "name": "stderr",
     "output_type": "stream",
     "text": [
      "Training (Head): 100%|██████████| 21/21 [01:07<00:00,  3.21s/it]\n",
      "Validating (Head): 100%|██████████| 5/5 [00:13<00:00,  2.77s/it]\n"
     ]
    },
    {
     "name": "stdout",
     "output_type": "stream",
     "text": [
      "Train Loss: 0.6238 | Val Loss: 1.6772, Val Acc: 46.04%\n",
      "\n",
      "--- Stage 1, Epoch 12/15 ---\n"
     ]
    },
    {
     "name": "stderr",
     "output_type": "stream",
     "text": [
      "Training (Head): 100%|██████████| 21/21 [00:59<00:00,  2.83s/it]\n",
      "Validating (Head): 100%|██████████| 5/5 [00:12<00:00,  2.55s/it]\n"
     ]
    },
    {
     "name": "stdout",
     "output_type": "stream",
     "text": [
      "Train Loss: 0.6137 | Val Loss: 1.5892, Val Acc: 49.64%\n",
      "\n",
      "--- Stage 1, Epoch 13/15 ---\n"
     ]
    },
    {
     "name": "stderr",
     "output_type": "stream",
     "text": [
      "Training (Head): 100%|██████████| 21/21 [00:59<00:00,  2.82s/it]\n",
      "Validating (Head): 100%|██████████| 5/5 [00:12<00:00,  2.49s/it]\n"
     ]
    },
    {
     "name": "stdout",
     "output_type": "stream",
     "text": [
      "Train Loss: 0.6122 | Val Loss: 1.7260, Val Acc: 47.48%\n",
      "\n",
      "--- Stage 1, Epoch 14/15 ---\n"
     ]
    },
    {
     "name": "stderr",
     "output_type": "stream",
     "text": [
      "Training (Head): 100%|██████████| 21/21 [00:59<00:00,  2.82s/it]\n",
      "Validating (Head): 100%|██████████| 5/5 [00:12<00:00,  2.50s/it]\n"
     ]
    },
    {
     "name": "stdout",
     "output_type": "stream",
     "text": [
      "Train Loss: 0.5690 | Val Loss: 1.8054, Val Acc: 40.29%\n",
      "\n",
      "--- Stage 1, Epoch 15/15 ---\n"
     ]
    },
    {
     "name": "stderr",
     "output_type": "stream",
     "text": [
      "Training (Head): 100%|██████████| 21/21 [00:59<00:00,  2.83s/it]\n",
      "Validating (Head): 100%|██████████| 5/5 [00:12<00:00,  2.50s/it]"
     ]
    },
    {
     "name": "stdout",
     "output_type": "stream",
     "text": [
      "Train Loss: 0.5128 | Val Loss: 1.8006, Val Acc: 51.08%\n",
      "🎉 New best val acc: 51.08%. Saving model...\n",
      "\n",
      "✅ Stage 1 Complete. Best accuracy: 51.08%. Model saved to stage1_head_trained.pth\n"
     ]
    },
    {
     "name": "stderr",
     "output_type": "stream",
     "text": [
      "\n"
     ]
    }
   ],
   "source": [
    "\n",
    "# =============================================================================\n",
    "# CELL 1: STAGE 1 - HEAD TRAINING\n",
    "# =============================================================================\n",
    "print(\"\\n\" + \"=\"*80)\n",
    "print(\"### EXECUTING CELL 1: STAGE 1 - HEAD TRAINING ###\".center(80))\n",
    "print(\"=\"*80)\n",
    "\n",
    "# 1. Load Data for Stage 1\n",
    "train_loader_s1, val_loader_s1, _, num_classes_s1, _ = get_data_loaders(\n",
    "    config['base_dir'], config['img_size'], config['stage1_batch_size'], config['num_workers']\n",
    ")\n",
    "\n",
    "# 2. Initialize Model and Freeze Backbone\n",
    "model_s1 = TransformersClassifier(config['model_name'], num_classes_s1).to(device)\n",
    "print(\"Freezing backbone layers for head training...\")\n",
    "for param in model_s1.backbone.parameters():\n",
    "    param.requires_grad = False\n",
    "\n",
    "# 3. Setup Optimizer and Criterion\n",
    "optimizer_s1 = optim.AdamW(model_s1.classifier.parameters(), lr=config['stage1_lr'])\n",
    "criterion_s1 = nn.CrossEntropyLoss()\n",
    "\n",
    "# 4. Training Loop\n",
    "best_val_accuracy_s1 = 0.0\n",
    "for epoch in range(config['stage1_epochs']):\n",
    "    print(f\"\\n--- Stage 1, Epoch {epoch+1}/{config['stage1_epochs']} ---\")\n",
    "    train_loss = train_one_epoch(model_s1, train_loader_s1, optimizer_s1, criterion_s1, device, desc=\"Head\")\n",
    "    val_loss, val_acc = validate(model_s1, val_loader_s1, criterion_s1, device, desc=\"Head\")\n",
    "    print(f\"Train Loss: {train_loss:.4f} | Val Loss: {val_loss:.4f}, Val Acc: {val_acc:.2%}\")\n",
    "    if val_acc > best_val_accuracy_s1:\n",
    "        print(f\"🎉 New best val acc: {val_acc:.2%}. Saving model...\")\n",
    "        best_val_accuracy_s1 = val_acc\n",
    "        torch.save({'model_state_dict': model_s1.state_dict()}, config['stage1_save_path'])\n",
    "\n",
    "print(f\"\\n✅ Stage 1 Complete. Best accuracy: {best_val_accuracy_s1:.2%}. Model saved to {config['stage1_save_path']}\")\n"
   ]
  },
  {
   "cell_type": "code",
   "execution_count": 4,
   "id": "27cd58d7",
   "metadata": {},
   "outputs": [
    {
     "name": "stdout",
     "output_type": "stream",
     "text": [
      "\n",
      "================================================================================\n",
      "           ### EXECUTING CELL 2: STAGE 2 - FULL NETWORK TRAINING ###            \n",
      "================================================================================\n",
      "Splitting 928 total images into: 649 Train, 139 Val, 140 Test\n",
      "Loading weights from Stage 1: stage1_head_trained.pth\n",
      "Unfreezing all layers...\n",
      "\n",
      "--- Stage 2, Epoch 1/30 ---\n"
     ]
    },
    {
     "name": "stderr",
     "output_type": "stream",
     "text": [
      "Training (Full): 100%|██████████| 41/41 [01:03<00:00,  1.54s/it]\n",
      "Validating (Full): 100%|██████████| 9/9 [00:11<00:00,  1.29s/it]\n"
     ]
    },
    {
     "name": "stdout",
     "output_type": "stream",
     "text": [
      "Train Loss: 4.0638 | Val Loss: 6.7798, Val Acc: 6.47%\n",
      "🎉 New best val acc: 6.47%. Saving model...\n",
      "\n",
      "--- Stage 2, Epoch 2/30 ---\n"
     ]
    },
    {
     "name": "stderr",
     "output_type": "stream",
     "text": [
      "Training (Full): 100%|██████████| 41/41 [01:00<00:00,  1.47s/it]\n",
      "Validating (Full): 100%|██████████| 9/9 [00:11<00:00,  1.30s/it]\n"
     ]
    },
    {
     "name": "stdout",
     "output_type": "stream",
     "text": [
      "Train Loss: 3.4395 | Val Loss: 8.0106, Val Acc: 2.88%\n",
      "\n",
      "--- Stage 2, Epoch 3/30 ---\n"
     ]
    },
    {
     "name": "stderr",
     "output_type": "stream",
     "text": [
      "Training (Full): 100%|██████████| 41/41 [01:01<00:00,  1.50s/it]\n",
      "Validating (Full): 100%|██████████| 9/9 [00:12<00:00,  1.36s/it]\n"
     ]
    },
    {
     "name": "stdout",
     "output_type": "stream",
     "text": [
      "Train Loss: 3.2319 | Val Loss: 6.2438, Val Acc: 5.04%\n",
      "\n",
      "--- Stage 2, Epoch 4/30 ---\n"
     ]
    },
    {
     "name": "stderr",
     "output_type": "stream",
     "text": [
      "Training (Full): 100%|██████████| 41/41 [01:02<00:00,  1.52s/it]\n",
      "Validating (Full): 100%|██████████| 9/9 [00:12<00:00,  1.37s/it]\n"
     ]
    },
    {
     "name": "stdout",
     "output_type": "stream",
     "text": [
      "Train Loss: 2.9133 | Val Loss: 12.1064, Val Acc: 5.04%\n",
      "\n",
      "--- Stage 2, Epoch 5/30 ---\n"
     ]
    },
    {
     "name": "stderr",
     "output_type": "stream",
     "text": [
      "Training (Full): 100%|██████████| 41/41 [01:02<00:00,  1.53s/it]\n",
      "Validating (Full): 100%|██████████| 9/9 [00:12<00:00,  1.37s/it]\n"
     ]
    },
    {
     "name": "stdout",
     "output_type": "stream",
     "text": [
      "Train Loss: 2.4886 | Val Loss: 4.1760, Val Acc: 10.79%\n",
      "🎉 New best val acc: 10.79%. Saving model...\n",
      "\n",
      "--- Stage 2, Epoch 6/30 ---\n"
     ]
    },
    {
     "name": "stderr",
     "output_type": "stream",
     "text": [
      "Training (Full): 100%|██████████| 41/41 [01:02<00:00,  1.52s/it]\n",
      "Validating (Full): 100%|██████████| 9/9 [00:12<00:00,  1.36s/it]\n"
     ]
    },
    {
     "name": "stdout",
     "output_type": "stream",
     "text": [
      "Train Loss: 2.0655 | Val Loss: 3.7645, Val Acc: 20.86%\n",
      "🎉 New best val acc: 20.86%. Saving model...\n",
      "\n",
      "--- Stage 2, Epoch 7/30 ---\n"
     ]
    },
    {
     "name": "stderr",
     "output_type": "stream",
     "text": [
      "Training (Full): 100%|██████████| 41/41 [01:02<00:00,  1.52s/it]\n",
      "Validating (Full): 100%|██████████| 9/9 [00:12<00:00,  1.36s/it]\n"
     ]
    },
    {
     "name": "stdout",
     "output_type": "stream",
     "text": [
      "Train Loss: 1.7954 | Val Loss: 3.9713, Val Acc: 14.39%\n",
      "\n",
      "--- Stage 2, Epoch 8/30 ---\n"
     ]
    },
    {
     "name": "stderr",
     "output_type": "stream",
     "text": [
      "Training (Full): 100%|██████████| 41/41 [01:03<00:00,  1.56s/it]\n",
      "Validating (Full): 100%|██████████| 9/9 [00:13<00:00,  1.54s/it]\n"
     ]
    },
    {
     "name": "stdout",
     "output_type": "stream",
     "text": [
      "Train Loss: 1.3949 | Val Loss: 2.5186, Val Acc: 31.65%\n",
      "🎉 New best val acc: 31.65%. Saving model...\n",
      "\n",
      "--- Stage 2, Epoch 9/30 ---\n"
     ]
    },
    {
     "name": "stderr",
     "output_type": "stream",
     "text": [
      "Training (Full): 100%|██████████| 41/41 [01:09<00:00,  1.70s/it]\n",
      "Validating (Full): 100%|██████████| 9/9 [00:13<00:00,  1.54s/it]\n"
     ]
    },
    {
     "name": "stdout",
     "output_type": "stream",
     "text": [
      "Train Loss: 1.0914 | Val Loss: 4.1031, Val Acc: 17.99%\n",
      "\n",
      "--- Stage 2, Epoch 10/30 ---\n"
     ]
    },
    {
     "name": "stderr",
     "output_type": "stream",
     "text": [
      "Training (Full): 100%|██████████| 41/41 [10:31<00:00, 15.41s/it]   \n",
      "Validating (Full): 100%|██████████| 9/9 [00:14<00:00,  1.64s/it]\n"
     ]
    },
    {
     "name": "stdout",
     "output_type": "stream",
     "text": [
      "Train Loss: 0.8228 | Val Loss: 2.4545, Val Acc: 41.73%\n",
      "🎉 New best val acc: 41.73%. Saving model...\n",
      "\n",
      "--- Stage 2, Epoch 11/30 ---\n"
     ]
    },
    {
     "name": "stderr",
     "output_type": "stream",
     "text": [
      "Training (Full): 100%|██████████| 41/41 [01:11<00:00,  1.75s/it]\n",
      "Validating (Full): 100%|██████████| 9/9 [00:14<00:00,  1.60s/it]\n"
     ]
    },
    {
     "name": "stdout",
     "output_type": "stream",
     "text": [
      "Train Loss: 0.5914 | Val Loss: 2.0346, Val Acc: 46.76%\n",
      "🎉 New best val acc: 46.76%. Saving model...\n",
      "\n",
      "--- Stage 2, Epoch 12/30 ---\n"
     ]
    },
    {
     "name": "stderr",
     "output_type": "stream",
     "text": [
      "Training (Full): 100%|██████████| 41/41 [01:12<00:00,  1.76s/it]\n",
      "Validating (Full): 100%|██████████| 9/9 [00:14<00:00,  1.58s/it]\n"
     ]
    },
    {
     "name": "stdout",
     "output_type": "stream",
     "text": [
      "Train Loss: 0.4179 | Val Loss: 1.1520, Val Acc: 63.31%\n",
      "🎉 New best val acc: 63.31%. Saving model...\n",
      "\n",
      "--- Stage 2, Epoch 13/30 ---\n"
     ]
    },
    {
     "name": "stderr",
     "output_type": "stream",
     "text": [
      "Training (Full): 100%|██████████| 41/41 [01:12<00:00,  1.76s/it]\n",
      "Validating (Full): 100%|██████████| 9/9 [45:07<00:00, 300.87s/it]\n"
     ]
    },
    {
     "name": "stdout",
     "output_type": "stream",
     "text": [
      "Train Loss: 0.3511 | Val Loss: 1.2069, Val Acc: 65.47%\n",
      "🎉 New best val acc: 65.47%. Saving model...\n",
      "\n",
      "--- Stage 2, Epoch 14/30 ---\n"
     ]
    },
    {
     "name": "stderr",
     "output_type": "stream",
     "text": [
      "Training (Full): 100%|██████████| 41/41 [01:14<00:00,  1.82s/it]\n",
      "Validating (Full): 100%|██████████| 9/9 [00:14<00:00,  1.60s/it]\n"
     ]
    },
    {
     "name": "stdout",
     "output_type": "stream",
     "text": [
      "Train Loss: 0.2056 | Val Loss: 0.8754, Val Acc: 77.70%\n",
      "🎉 New best val acc: 77.70%. Saving model...\n",
      "\n",
      "--- Stage 2, Epoch 15/30 ---\n"
     ]
    },
    {
     "name": "stderr",
     "output_type": "stream",
     "text": [
      "Training (Full): 100%|██████████| 41/41 [01:11<00:00,  1.75s/it]\n",
      "Validating (Full): 100%|██████████| 9/9 [00:13<00:00,  1.52s/it]\n"
     ]
    },
    {
     "name": "stdout",
     "output_type": "stream",
     "text": [
      "Train Loss: 0.1600 | Val Loss: 0.7142, Val Acc: 79.86%\n",
      "🎉 New best val acc: 79.86%. Saving model...\n",
      "\n",
      "--- Stage 2, Epoch 16/30 ---\n"
     ]
    },
    {
     "name": "stderr",
     "output_type": "stream",
     "text": [
      "Training (Full): 100%|██████████| 41/41 [01:05<00:00,  1.61s/it]\n",
      "Validating (Full): 100%|██████████| 9/9 [00:12<00:00,  1.40s/it]\n"
     ]
    },
    {
     "name": "stdout",
     "output_type": "stream",
     "text": [
      "Train Loss: 0.0969 | Val Loss: 0.7245, Val Acc: 80.58%\n",
      "🎉 New best val acc: 80.58%. Saving model...\n",
      "\n",
      "--- Stage 2, Epoch 17/30 ---\n"
     ]
    },
    {
     "name": "stderr",
     "output_type": "stream",
     "text": [
      "Training (Full): 100%|██████████| 41/41 [01:04<00:00,  1.57s/it]\n",
      "Validating (Full): 100%|██████████| 9/9 [00:19<00:00,  2.18s/it]\n"
     ]
    },
    {
     "name": "stdout",
     "output_type": "stream",
     "text": [
      "Train Loss: 0.0641 | Val Loss: 0.5500, Val Acc: 82.73%\n",
      "🎉 New best val acc: 82.73%. Saving model...\n",
      "\n",
      "--- Stage 2, Epoch 18/30 ---\n"
     ]
    },
    {
     "name": "stderr",
     "output_type": "stream",
     "text": [
      "Training (Full): 100%|██████████| 41/41 [01:45<00:00,  2.58s/it]\n",
      "Validating (Full): 100%|██████████| 9/9 [00:19<00:00,  2.13s/it]\n"
     ]
    },
    {
     "name": "stdout",
     "output_type": "stream",
     "text": [
      "Train Loss: 0.0432 | Val Loss: 0.5401, Val Acc: 80.58%\n",
      "\n",
      "--- Stage 2, Epoch 19/30 ---\n"
     ]
    },
    {
     "name": "stderr",
     "output_type": "stream",
     "text": [
      "Training (Full): 100%|██████████| 41/41 [01:34<00:00,  2.29s/it]\n",
      "Validating (Full): 100%|██████████| 9/9 [00:12<00:00,  1.35s/it]\n"
     ]
    },
    {
     "name": "stdout",
     "output_type": "stream",
     "text": [
      "Train Loss: 0.0457 | Val Loss: 0.5480, Val Acc: 81.29%\n",
      "\n",
      "--- Stage 2, Epoch 20/30 ---\n"
     ]
    },
    {
     "name": "stderr",
     "output_type": "stream",
     "text": [
      "Training (Full): 100%|██████████| 41/41 [01:01<00:00,  1.50s/it]\n",
      "Validating (Full): 100%|██████████| 9/9 [00:12<00:00,  1.34s/it]\n"
     ]
    },
    {
     "name": "stdout",
     "output_type": "stream",
     "text": [
      "Train Loss: 0.0350 | Val Loss: 0.4851, Val Acc: 84.89%\n",
      "🎉 New best val acc: 84.89%. Saving model...\n",
      "\n",
      "--- Stage 2, Epoch 21/30 ---\n"
     ]
    },
    {
     "name": "stderr",
     "output_type": "stream",
     "text": [
      "Training (Full): 100%|██████████| 41/41 [01:00<00:00,  1.48s/it]\n",
      "Validating (Full): 100%|██████████| 9/9 [00:11<00:00,  1.30s/it]\n"
     ]
    },
    {
     "name": "stdout",
     "output_type": "stream",
     "text": [
      "Train Loss: 0.0239 | Val Loss: 0.4794, Val Acc: 85.61%\n",
      "🎉 New best val acc: 85.61%. Saving model...\n",
      "\n",
      "--- Stage 2, Epoch 22/30 ---\n"
     ]
    },
    {
     "name": "stderr",
     "output_type": "stream",
     "text": [
      "Training (Full): 100%|██████████| 41/41 [01:01<00:00,  1.51s/it]\n",
      "Validating (Full): 100%|██████████| 9/9 [00:12<00:00,  1.34s/it]\n"
     ]
    },
    {
     "name": "stdout",
     "output_type": "stream",
     "text": [
      "Train Loss: 0.0191 | Val Loss: 0.5003, Val Acc: 85.61%\n",
      "\n",
      "--- Stage 2, Epoch 23/30 ---\n"
     ]
    },
    {
     "name": "stderr",
     "output_type": "stream",
     "text": [
      "Training (Full): 100%|██████████| 41/41 [01:00<00:00,  1.47s/it]\n",
      "Validating (Full): 100%|██████████| 9/9 [00:11<00:00,  1.31s/it]\n"
     ]
    },
    {
     "name": "stdout",
     "output_type": "stream",
     "text": [
      "Train Loss: 0.0192 | Val Loss: 0.4843, Val Acc: 85.61%\n",
      "\n",
      "--- Stage 2, Epoch 24/30 ---\n"
     ]
    },
    {
     "name": "stderr",
     "output_type": "stream",
     "text": [
      "Training (Full): 100%|██████████| 41/41 [01:01<00:00,  1.49s/it]\n",
      "Validating (Full): 100%|██████████| 9/9 [00:11<00:00,  1.31s/it]\n"
     ]
    },
    {
     "name": "stdout",
     "output_type": "stream",
     "text": [
      "Train Loss: 0.0174 | Val Loss: 0.4767, Val Acc: 86.33%\n",
      "🎉 New best val acc: 86.33%. Saving model...\n",
      "\n",
      "--- Stage 2, Epoch 25/30 ---\n"
     ]
    },
    {
     "name": "stderr",
     "output_type": "stream",
     "text": [
      "Training (Full): 100%|██████████| 41/41 [01:01<00:00,  1.49s/it]\n",
      "Validating (Full): 100%|██████████| 9/9 [00:12<00:00,  1.35s/it]\n"
     ]
    },
    {
     "name": "stdout",
     "output_type": "stream",
     "text": [
      "Train Loss: 0.0196 | Val Loss: 0.4584, Val Acc: 86.33%\n",
      "\n",
      "--- Stage 2, Epoch 26/30 ---\n"
     ]
    },
    {
     "name": "stderr",
     "output_type": "stream",
     "text": [
      "Training (Full): 100%|██████████| 41/41 [01:01<00:00,  1.50s/it]\n",
      "Validating (Full): 100%|██████████| 9/9 [00:11<00:00,  1.33s/it]\n"
     ]
    },
    {
     "name": "stdout",
     "output_type": "stream",
     "text": [
      "Train Loss: 0.0221 | Val Loss: 0.4746, Val Acc: 85.61%\n",
      "\n",
      "--- Stage 2, Epoch 27/30 ---\n"
     ]
    },
    {
     "name": "stderr",
     "output_type": "stream",
     "text": [
      "Training (Full): 100%|██████████| 41/41 [01:00<00:00,  1.49s/it]\n",
      "Validating (Full): 100%|██████████| 9/9 [00:17<00:00,  1.91s/it]\n"
     ]
    },
    {
     "name": "stdout",
     "output_type": "stream",
     "text": [
      "Train Loss: 0.0152 | Val Loss: 0.4632, Val Acc: 85.61%\n",
      "\n",
      "--- Stage 2, Epoch 28/30 ---\n"
     ]
    },
    {
     "name": "stderr",
     "output_type": "stream",
     "text": [
      "Training (Full): 100%|██████████| 41/41 [01:06<00:00,  1.62s/it]\n",
      "Validating (Full): 100%|██████████| 9/9 [00:12<00:00,  1.36s/it]\n"
     ]
    },
    {
     "name": "stdout",
     "output_type": "stream",
     "text": [
      "Train Loss: 0.0158 | Val Loss: 0.4605, Val Acc: 85.61%\n",
      "\n",
      "--- Stage 2, Epoch 29/30 ---\n"
     ]
    },
    {
     "name": "stderr",
     "output_type": "stream",
     "text": [
      "Training (Full): 100%|██████████| 41/41 [01:02<00:00,  1.53s/it]\n",
      "Validating (Full): 100%|██████████| 9/9 [00:12<00:00,  1.35s/it]\n"
     ]
    },
    {
     "name": "stdout",
     "output_type": "stream",
     "text": [
      "Train Loss: 0.0161 | Val Loss: 0.4543, Val Acc: 87.77%\n",
      "🎉 New best val acc: 87.77%. Saving model...\n",
      "\n",
      "--- Stage 2, Epoch 30/30 ---\n"
     ]
    },
    {
     "name": "stderr",
     "output_type": "stream",
     "text": [
      "Training (Full): 100%|██████████| 41/41 [01:02<00:00,  1.52s/it]\n",
      "Validating (Full): 100%|██████████| 9/9 [00:12<00:00,  1.36s/it]"
     ]
    },
    {
     "name": "stdout",
     "output_type": "stream",
     "text": [
      "Train Loss: 0.0133 | Val Loss: 0.4598, Val Acc: 86.33%\n",
      "\n",
      "✅ Stage 2 Complete. Best accuracy: 87.77%. Model saved to stage2_full_trained.pth\n"
     ]
    },
    {
     "name": "stderr",
     "output_type": "stream",
     "text": [
      "\n"
     ]
    }
   ],
   "source": [
    "# =============================================================================\n",
    "# CELL 2: STAGE 2 - FULL NETWORK TRAINING\n",
    "# =============================================================================\n",
    "print(\"\\n\" + \"=\"*80)\n",
    "print(\"### EXECUTING CELL 2: STAGE 2 - FULL NETWORK TRAINING ###\".center(80))\n",
    "print(\"=\"*80)\n",
    "\n",
    "# 1. Load Data for Stage 2\n",
    "train_loader_s2, val_loader_s2, _, num_classes_s2, _ = get_data_loaders(\n",
    "    config['base_dir'], config['img_size'], config['stage2_batch_size'], config['num_workers']\n",
    ")\n",
    "\n",
    "# 2. Initialize Model, Load Stage 1 Weights, and Unfreeze\n",
    "model_s2 = TransformersClassifier(config['model_name'], num_classes_s2).to(device)\n",
    "print(f\"Loading weights from Stage 1: {config['stage2_load_path']}\")\n",
    "checkpoint_s2 = torch.load(config['stage2_load_path'], map_location=device)\n",
    "model_s2.load_state_dict(checkpoint_s2['model_state_dict'])\n",
    "print(\"Unfreezing all layers...\")\n",
    "for param in model_s2.parameters():\n",
    "    param.requires_grad = True\n",
    "\n",
    "# 3. Setup Optimizer and Scheduler\n",
    "optimizer_s2 = optim.AdamW(model_s2.parameters(), lr=config['stage2_lr'], weight_decay=1e-5)\n",
    "# CORRECTED: Changed T_eta_min to eta_min\n",
    "scheduler_s2 = optim.lr_scheduler.CosineAnnealingLR(optimizer_s2, eta_min=1e-6, T_max=config['stage2_epochs'])\n",
    "criterion_s2 = nn.CrossEntropyLoss()\n",
    "\n",
    "# 4. Training Loop with Early Stopping\n",
    "best_val_accuracy_s2 = 0.0\n",
    "epochs_no_improve_s2 = 0\n",
    "for epoch in range(config['stage2_epochs']):\n",
    "    print(f\"\\n--- Stage 2, Epoch {epoch+1}/{config['stage2_epochs']} ---\")\n",
    "    train_loss = train_one_epoch(model_s2, train_loader_s2, optimizer_s2, criterion_s2, device, desc=\"Full\")\n",
    "    val_loss, val_acc = validate(model_s2, val_loader_s2, criterion_s2, device, desc=\"Full\")\n",
    "    scheduler_s2.step()\n",
    "    print(f\"Train Loss: {train_loss:.4f} | Val Loss: {val_loss:.4f}, Val Acc: {val_acc:.2%}\")\n",
    "    if val_acc > best_val_accuracy_s2:\n",
    "        print(f\"🎉 New best val acc: {val_acc:.2%}. Saving model...\")\n",
    "        best_val_accuracy_s2 = val_acc\n",
    "        torch.save({'model_state_dict': model_s2.state_dict()}, config['stage2_save_path'])\n",
    "        epochs_no_improve_s2 = 0\n",
    "    else:\n",
    "        epochs_no_improve_s2 += 1\n",
    "        if epochs_no_improve_s2 >= config['stage2_patience']:\n",
    "            print(f\"\\nStopping early after {config['stage2_patience']} epochs with no improvement.\")\n",
    "            break\n",
    "\n",
    "print(f\"\\n✅ Stage 2 Complete. Best accuracy: {best_val_accuracy_s2:.2%}. Model saved to {config['stage2_save_path']}\")\n",
    "\n"
   ]
  },
  {
   "cell_type": "code",
   "execution_count": 6,
   "id": "03a472ff",
   "metadata": {},
   "outputs": [
    {
     "name": "stdout",
     "output_type": "stream",
     "text": [
      "\n",
      "================================================================================\n",
      "                ### EXECUTING CELL 3: STAGE 3 - FINE-TUNING ###                 \n",
      "================================================================================\n",
      "Splitting 928 total images into: 649 Train, 139 Val, 140 Test\n",
      "Loading weights from Stage 2: stage2_full_trained.pth\n",
      "\n",
      "--- Stage 3, Epoch 1/25 ---\n"
     ]
    },
    {
     "name": "stderr",
     "output_type": "stream",
     "text": [
      "Training (Finetune): 100%|██████████| 41/41 [01:04<00:00,  1.58s/it]\n",
      "Validating (Finetune): 100%|██████████| 9/9 [00:11<00:00,  1.32s/it]\n"
     ]
    },
    {
     "name": "stdout",
     "output_type": "stream",
     "text": [
      "Train Loss: 0.0170 | Val Loss: 0.4815, Val Acc: 86.33%\n",
      "🎉 New best val acc: 86.33%. Saving final model...\n",
      "\n",
      "--- Stage 3, Epoch 2/25 ---\n"
     ]
    },
    {
     "name": "stderr",
     "output_type": "stream",
     "text": [
      "Training (Finetune): 100%|██████████| 41/41 [01:22<00:00,  2.02s/it]\n",
      "Validating (Finetune): 100%|██████████| 9/9 [00:14<00:00,  1.66s/it]\n"
     ]
    },
    {
     "name": "stdout",
     "output_type": "stream",
     "text": [
      "Train Loss: 0.0148 | Val Loss: 0.5720, Val Acc: 82.01%\n",
      "\n",
      "--- Stage 3, Epoch 3/25 ---\n"
     ]
    },
    {
     "name": "stderr",
     "output_type": "stream",
     "text": [
      "Training (Finetune): 100%|██████████| 41/41 [01:32<00:00,  2.27s/it]\n",
      "Validating (Finetune): 100%|██████████| 9/9 [00:18<00:00,  2.09s/it]\n"
     ]
    },
    {
     "name": "stdout",
     "output_type": "stream",
     "text": [
      "Train Loss: 0.0140 | Val Loss: 0.5369, Val Acc: 85.61%\n",
      "\n",
      "--- Stage 3, Epoch 4/25 ---\n"
     ]
    },
    {
     "name": "stderr",
     "output_type": "stream",
     "text": [
      "Training (Finetune): 100%|██████████| 41/41 [01:42<00:00,  2.50s/it]\n",
      "Validating (Finetune): 100%|██████████| 9/9 [00:20<00:00,  2.24s/it]\n"
     ]
    },
    {
     "name": "stdout",
     "output_type": "stream",
     "text": [
      "Train Loss: 0.0095 | Val Loss: 0.5027, Val Acc: 84.89%\n",
      "\n",
      "--- Stage 3, Epoch 5/25 ---\n"
     ]
    },
    {
     "name": "stderr",
     "output_type": "stream",
     "text": [
      "Training (Finetune): 100%|██████████| 41/41 [01:24<00:00,  2.05s/it]\n",
      "Validating (Finetune): 100%|██████████| 9/9 [00:19<00:00,  2.13s/it]\n"
     ]
    },
    {
     "name": "stdout",
     "output_type": "stream",
     "text": [
      "Train Loss: 0.0111 | Val Loss: 0.5388, Val Acc: 83.45%\n",
      "\n",
      "--- Stage 3, Epoch 6/25 ---\n"
     ]
    },
    {
     "name": "stderr",
     "output_type": "stream",
     "text": [
      "Training (Finetune):  10%|▉         | 4/41 [00:08<01:22,  2.22s/it]\n"
     ]
    },
    {
     "ename": "KeyboardInterrupt",
     "evalue": "",
     "output_type": "error",
     "traceback": [
      "\u001b[1;31m---------------------------------------------------------------------------\u001b[0m",
      "\u001b[1;31mKeyboardInterrupt\u001b[0m                         Traceback (most recent call last)",
      "Cell \u001b[1;32mIn[6], line 30\u001b[0m\n\u001b[0;32m     28\u001b[0m \u001b[38;5;28;01mfor\u001b[39;00m epoch \u001b[38;5;129;01min\u001b[39;00m \u001b[38;5;28mrange\u001b[39m(config[\u001b[38;5;124m'\u001b[39m\u001b[38;5;124mstage3_epochs\u001b[39m\u001b[38;5;124m'\u001b[39m]):\n\u001b[0;32m     29\u001b[0m     \u001b[38;5;28mprint\u001b[39m(\u001b[38;5;124mf\u001b[39m\u001b[38;5;124m\"\u001b[39m\u001b[38;5;130;01m\\n\u001b[39;00m\u001b[38;5;124m--- Stage 3, Epoch \u001b[39m\u001b[38;5;132;01m{\u001b[39;00mepoch\u001b[38;5;241m+\u001b[39m\u001b[38;5;241m1\u001b[39m\u001b[38;5;132;01m}\u001b[39;00m\u001b[38;5;124m/\u001b[39m\u001b[38;5;132;01m{\u001b[39;00mconfig[\u001b[38;5;124m'\u001b[39m\u001b[38;5;124mstage3_epochs\u001b[39m\u001b[38;5;124m'\u001b[39m]\u001b[38;5;132;01m}\u001b[39;00m\u001b[38;5;124m ---\u001b[39m\u001b[38;5;124m\"\u001b[39m)\n\u001b[1;32m---> 30\u001b[0m     train_loss \u001b[38;5;241m=\u001b[39m \u001b[43mtrain_one_epoch\u001b[49m\u001b[43m(\u001b[49m\u001b[43mmodel_s3\u001b[49m\u001b[43m,\u001b[49m\u001b[43m \u001b[49m\u001b[43mtrain_loader_s3\u001b[49m\u001b[43m,\u001b[49m\u001b[43m \u001b[49m\u001b[43moptimizer_s3\u001b[49m\u001b[43m,\u001b[49m\u001b[43m \u001b[49m\u001b[43mcriterion_s3\u001b[49m\u001b[43m,\u001b[49m\u001b[43m \u001b[49m\u001b[43mdevice\u001b[49m\u001b[43m,\u001b[49m\u001b[43m \u001b[49m\u001b[43mdesc\u001b[49m\u001b[38;5;241;43m=\u001b[39;49m\u001b[38;5;124;43m\"\u001b[39;49m\u001b[38;5;124;43mFinetune\u001b[39;49m\u001b[38;5;124;43m\"\u001b[39;49m\u001b[43m)\u001b[49m\n\u001b[0;32m     31\u001b[0m     val_loss, val_acc \u001b[38;5;241m=\u001b[39m validate(model_s3, val_loader_s3, criterion_s3, device, desc\u001b[38;5;241m=\u001b[39m\u001b[38;5;124m\"\u001b[39m\u001b[38;5;124mFinetune\u001b[39m\u001b[38;5;124m\"\u001b[39m)\n\u001b[0;32m     32\u001b[0m     scheduler_s3\u001b[38;5;241m.\u001b[39mstep()\n",
      "Cell \u001b[1;32mIn[1], line 139\u001b[0m, in \u001b[0;36mtrain_one_epoch\u001b[1;34m(model, loader, optimizer, criterion, device, desc)\u001b[0m\n\u001b[0;32m    137\u001b[0m model\u001b[38;5;241m.\u001b[39mtrain()\n\u001b[0;32m    138\u001b[0m total_loss \u001b[38;5;241m=\u001b[39m \u001b[38;5;241m0\u001b[39m\n\u001b[1;32m--> 139\u001b[0m \u001b[43m\u001b[49m\u001b[38;5;28;43;01mfor\u001b[39;49;00m\u001b[43m \u001b[49m\u001b[43minputs\u001b[49m\u001b[43m,\u001b[49m\u001b[43m \u001b[49m\u001b[43mlabels\u001b[49m\u001b[43m \u001b[49m\u001b[38;5;129;43;01min\u001b[39;49;00m\u001b[43m \u001b[49m\u001b[43mtqdm\u001b[49m\u001b[43m(\u001b[49m\u001b[43mloader\u001b[49m\u001b[43m,\u001b[49m\u001b[43m \u001b[49m\u001b[43mdesc\u001b[49m\u001b[38;5;241;43m=\u001b[39;49m\u001b[38;5;124;43mf\u001b[39;49m\u001b[38;5;124;43m\"\u001b[39;49m\u001b[38;5;124;43mTraining (\u001b[39;49m\u001b[38;5;132;43;01m{\u001b[39;49;00m\u001b[43mdesc\u001b[49m\u001b[38;5;132;43;01m}\u001b[39;49;00m\u001b[38;5;124;43m)\u001b[39;49m\u001b[38;5;124;43m\"\u001b[39;49m\u001b[43m)\u001b[49m\u001b[43m:\u001b[49m\n\u001b[0;32m    140\u001b[0m \u001b[43m    \u001b[49m\u001b[43minputs\u001b[49m\u001b[43m,\u001b[49m\u001b[43m \u001b[49m\u001b[43mlabels\u001b[49m\u001b[43m \u001b[49m\u001b[38;5;241;43m=\u001b[39;49m\u001b[43m \u001b[49m\u001b[43minputs\u001b[49m\u001b[38;5;241;43m.\u001b[39;49m\u001b[43mto\u001b[49m\u001b[43m(\u001b[49m\u001b[43mdevice\u001b[49m\u001b[43m)\u001b[49m\u001b[43m,\u001b[49m\u001b[43m \u001b[49m\u001b[43mlabels\u001b[49m\u001b[38;5;241;43m.\u001b[39;49m\u001b[43mto\u001b[49m\u001b[43m(\u001b[49m\u001b[43mdevice\u001b[49m\u001b[43m)\u001b[49m\n\u001b[0;32m    141\u001b[0m \u001b[43m    \u001b[49m\u001b[43moptimizer\u001b[49m\u001b[38;5;241;43m.\u001b[39;49m\u001b[43mzero_grad\u001b[49m\u001b[43m(\u001b[49m\u001b[43m)\u001b[49m\n",
      "File \u001b[1;32m~\\AppData\\Roaming\\Python\\Python312\\site-packages\\tqdm\\std.py:1181\u001b[0m, in \u001b[0;36mtqdm.__iter__\u001b[1;34m(self)\u001b[0m\n\u001b[0;32m   1178\u001b[0m time \u001b[38;5;241m=\u001b[39m \u001b[38;5;28mself\u001b[39m\u001b[38;5;241m.\u001b[39m_time\n\u001b[0;32m   1180\u001b[0m \u001b[38;5;28;01mtry\u001b[39;00m:\n\u001b[1;32m-> 1181\u001b[0m \u001b[43m    \u001b[49m\u001b[38;5;28;43;01mfor\u001b[39;49;00m\u001b[43m \u001b[49m\u001b[43mobj\u001b[49m\u001b[43m \u001b[49m\u001b[38;5;129;43;01min\u001b[39;49;00m\u001b[43m \u001b[49m\u001b[43miterable\u001b[49m\u001b[43m:\u001b[49m\n\u001b[0;32m   1182\u001b[0m \u001b[43m        \u001b[49m\u001b[38;5;28;43;01myield\u001b[39;49;00m\u001b[43m \u001b[49m\u001b[43mobj\u001b[49m\n\u001b[0;32m   1183\u001b[0m \u001b[43m        \u001b[49m\u001b[38;5;66;43;03m# Update and possibly print the progressbar.\u001b[39;49;00m\n\u001b[0;32m   1184\u001b[0m \u001b[43m        \u001b[49m\u001b[38;5;66;43;03m# Note: does not call self.update(1) for speed optimisation.\u001b[39;49;00m\n",
      "File \u001b[1;32mc:\\Users\\sreeh\\AppData\\Local\\Programs\\Python\\Python312\\Lib\\site-packages\\torch\\utils\\data\\dataloader.py:708\u001b[0m, in \u001b[0;36m_BaseDataLoaderIter.__next__\u001b[1;34m(self)\u001b[0m\n\u001b[0;32m    705\u001b[0m \u001b[38;5;28;01mif\u001b[39;00m \u001b[38;5;28mself\u001b[39m\u001b[38;5;241m.\u001b[39m_sampler_iter \u001b[38;5;129;01mis\u001b[39;00m \u001b[38;5;28;01mNone\u001b[39;00m:\n\u001b[0;32m    706\u001b[0m     \u001b[38;5;66;03m# TODO(https://github.com/pytorch/pytorch/issues/76750)\u001b[39;00m\n\u001b[0;32m    707\u001b[0m     \u001b[38;5;28mself\u001b[39m\u001b[38;5;241m.\u001b[39m_reset()  \u001b[38;5;66;03m# type: ignore[call-arg]\u001b[39;00m\n\u001b[1;32m--> 708\u001b[0m data \u001b[38;5;241m=\u001b[39m \u001b[38;5;28;43mself\u001b[39;49m\u001b[38;5;241;43m.\u001b[39;49m\u001b[43m_next_data\u001b[49m\u001b[43m(\u001b[49m\u001b[43m)\u001b[49m\n\u001b[0;32m    709\u001b[0m \u001b[38;5;28mself\u001b[39m\u001b[38;5;241m.\u001b[39m_num_yielded \u001b[38;5;241m+\u001b[39m\u001b[38;5;241m=\u001b[39m \u001b[38;5;241m1\u001b[39m\n\u001b[0;32m    710\u001b[0m \u001b[38;5;28;01mif\u001b[39;00m (\n\u001b[0;32m    711\u001b[0m     \u001b[38;5;28mself\u001b[39m\u001b[38;5;241m.\u001b[39m_dataset_kind \u001b[38;5;241m==\u001b[39m _DatasetKind\u001b[38;5;241m.\u001b[39mIterable\n\u001b[0;32m    712\u001b[0m     \u001b[38;5;129;01mand\u001b[39;00m \u001b[38;5;28mself\u001b[39m\u001b[38;5;241m.\u001b[39m_IterableDataset_len_called \u001b[38;5;129;01mis\u001b[39;00m \u001b[38;5;129;01mnot\u001b[39;00m \u001b[38;5;28;01mNone\u001b[39;00m\n\u001b[0;32m    713\u001b[0m     \u001b[38;5;129;01mand\u001b[39;00m \u001b[38;5;28mself\u001b[39m\u001b[38;5;241m.\u001b[39m_num_yielded \u001b[38;5;241m>\u001b[39m \u001b[38;5;28mself\u001b[39m\u001b[38;5;241m.\u001b[39m_IterableDataset_len_called\n\u001b[0;32m    714\u001b[0m ):\n",
      "File \u001b[1;32mc:\\Users\\sreeh\\AppData\\Local\\Programs\\Python\\Python312\\Lib\\site-packages\\torch\\utils\\data\\dataloader.py:764\u001b[0m, in \u001b[0;36m_SingleProcessDataLoaderIter._next_data\u001b[1;34m(self)\u001b[0m\n\u001b[0;32m    762\u001b[0m \u001b[38;5;28;01mdef\u001b[39;00m\u001b[38;5;250m \u001b[39m\u001b[38;5;21m_next_data\u001b[39m(\u001b[38;5;28mself\u001b[39m):\n\u001b[0;32m    763\u001b[0m     index \u001b[38;5;241m=\u001b[39m \u001b[38;5;28mself\u001b[39m\u001b[38;5;241m.\u001b[39m_next_index()  \u001b[38;5;66;03m# may raise StopIteration\u001b[39;00m\n\u001b[1;32m--> 764\u001b[0m     data \u001b[38;5;241m=\u001b[39m \u001b[38;5;28;43mself\u001b[39;49m\u001b[38;5;241;43m.\u001b[39;49m\u001b[43m_dataset_fetcher\u001b[49m\u001b[38;5;241;43m.\u001b[39;49m\u001b[43mfetch\u001b[49m\u001b[43m(\u001b[49m\u001b[43mindex\u001b[49m\u001b[43m)\u001b[49m  \u001b[38;5;66;03m# may raise StopIteration\u001b[39;00m\n\u001b[0;32m    765\u001b[0m     \u001b[38;5;28;01mif\u001b[39;00m \u001b[38;5;28mself\u001b[39m\u001b[38;5;241m.\u001b[39m_pin_memory:\n\u001b[0;32m    766\u001b[0m         data \u001b[38;5;241m=\u001b[39m _utils\u001b[38;5;241m.\u001b[39mpin_memory\u001b[38;5;241m.\u001b[39mpin_memory(data, \u001b[38;5;28mself\u001b[39m\u001b[38;5;241m.\u001b[39m_pin_memory_device)\n",
      "File \u001b[1;32mc:\\Users\\sreeh\\AppData\\Local\\Programs\\Python\\Python312\\Lib\\site-packages\\torch\\utils\\data\\_utils\\fetch.py:50\u001b[0m, in \u001b[0;36m_MapDatasetFetcher.fetch\u001b[1;34m(self, possibly_batched_index)\u001b[0m\n\u001b[0;32m     48\u001b[0m \u001b[38;5;28;01mif\u001b[39;00m \u001b[38;5;28mself\u001b[39m\u001b[38;5;241m.\u001b[39mauto_collation:\n\u001b[0;32m     49\u001b[0m     \u001b[38;5;28;01mif\u001b[39;00m \u001b[38;5;28mhasattr\u001b[39m(\u001b[38;5;28mself\u001b[39m\u001b[38;5;241m.\u001b[39mdataset, \u001b[38;5;124m\"\u001b[39m\u001b[38;5;124m__getitems__\u001b[39m\u001b[38;5;124m\"\u001b[39m) \u001b[38;5;129;01mand\u001b[39;00m \u001b[38;5;28mself\u001b[39m\u001b[38;5;241m.\u001b[39mdataset\u001b[38;5;241m.\u001b[39m__getitems__:\n\u001b[1;32m---> 50\u001b[0m         data \u001b[38;5;241m=\u001b[39m \u001b[38;5;28;43mself\u001b[39;49m\u001b[38;5;241;43m.\u001b[39;49m\u001b[43mdataset\u001b[49m\u001b[38;5;241;43m.\u001b[39;49m\u001b[43m__getitems__\u001b[49m\u001b[43m(\u001b[49m\u001b[43mpossibly_batched_index\u001b[49m\u001b[43m)\u001b[49m\n\u001b[0;32m     51\u001b[0m     \u001b[38;5;28;01melse\u001b[39;00m:\n\u001b[0;32m     52\u001b[0m         data \u001b[38;5;241m=\u001b[39m [\u001b[38;5;28mself\u001b[39m\u001b[38;5;241m.\u001b[39mdataset[idx] \u001b[38;5;28;01mfor\u001b[39;00m idx \u001b[38;5;129;01min\u001b[39;00m possibly_batched_index]\n",
      "File \u001b[1;32mc:\\Users\\sreeh\\AppData\\Local\\Programs\\Python\\Python312\\Lib\\site-packages\\torch\\utils\\data\\dataset.py:420\u001b[0m, in \u001b[0;36mSubset.__getitems__\u001b[1;34m(self, indices)\u001b[0m\n\u001b[0;32m    418\u001b[0m     \u001b[38;5;28;01mreturn\u001b[39;00m \u001b[38;5;28mself\u001b[39m\u001b[38;5;241m.\u001b[39mdataset\u001b[38;5;241m.\u001b[39m__getitems__([\u001b[38;5;28mself\u001b[39m\u001b[38;5;241m.\u001b[39mindices[idx] \u001b[38;5;28;01mfor\u001b[39;00m idx \u001b[38;5;129;01min\u001b[39;00m indices])  \u001b[38;5;66;03m# type: ignore[attr-defined]\u001b[39;00m\n\u001b[0;32m    419\u001b[0m \u001b[38;5;28;01melse\u001b[39;00m:\n\u001b[1;32m--> 420\u001b[0m     \u001b[38;5;28;01mreturn\u001b[39;00m [\u001b[38;5;28;43mself\u001b[39;49m\u001b[38;5;241;43m.\u001b[39;49m\u001b[43mdataset\u001b[49m\u001b[43m[\u001b[49m\u001b[38;5;28;43mself\u001b[39;49m\u001b[38;5;241;43m.\u001b[39;49m\u001b[43mindices\u001b[49m\u001b[43m[\u001b[49m\u001b[43midx\u001b[49m\u001b[43m]\u001b[49m\u001b[43m]\u001b[49m \u001b[38;5;28;01mfor\u001b[39;00m idx \u001b[38;5;129;01min\u001b[39;00m indices]\n",
      "File \u001b[1;32mc:\\Users\\sreeh\\AppData\\Local\\Programs\\Python\\Python312\\Lib\\site-packages\\torchvision\\datasets\\folder.py:247\u001b[0m, in \u001b[0;36mDatasetFolder.__getitem__\u001b[1;34m(self, index)\u001b[0m\n\u001b[0;32m    245\u001b[0m sample \u001b[38;5;241m=\u001b[39m \u001b[38;5;28mself\u001b[39m\u001b[38;5;241m.\u001b[39mloader(path)\n\u001b[0;32m    246\u001b[0m \u001b[38;5;28;01mif\u001b[39;00m \u001b[38;5;28mself\u001b[39m\u001b[38;5;241m.\u001b[39mtransform \u001b[38;5;129;01mis\u001b[39;00m \u001b[38;5;129;01mnot\u001b[39;00m \u001b[38;5;28;01mNone\u001b[39;00m:\n\u001b[1;32m--> 247\u001b[0m     sample \u001b[38;5;241m=\u001b[39m \u001b[38;5;28;43mself\u001b[39;49m\u001b[38;5;241;43m.\u001b[39;49m\u001b[43mtransform\u001b[49m\u001b[43m(\u001b[49m\u001b[43msample\u001b[49m\u001b[43m)\u001b[49m\n\u001b[0;32m    248\u001b[0m \u001b[38;5;28;01mif\u001b[39;00m \u001b[38;5;28mself\u001b[39m\u001b[38;5;241m.\u001b[39mtarget_transform \u001b[38;5;129;01mis\u001b[39;00m \u001b[38;5;129;01mnot\u001b[39;00m \u001b[38;5;28;01mNone\u001b[39;00m:\n\u001b[0;32m    249\u001b[0m     target \u001b[38;5;241m=\u001b[39m \u001b[38;5;28mself\u001b[39m\u001b[38;5;241m.\u001b[39mtarget_transform(target)\n",
      "File \u001b[1;32mc:\\Users\\sreeh\\AppData\\Local\\Programs\\Python\\Python312\\Lib\\site-packages\\torchvision\\transforms\\transforms.py:95\u001b[0m, in \u001b[0;36mCompose.__call__\u001b[1;34m(self, img)\u001b[0m\n\u001b[0;32m     93\u001b[0m \u001b[38;5;28;01mdef\u001b[39;00m\u001b[38;5;250m \u001b[39m\u001b[38;5;21m__call__\u001b[39m(\u001b[38;5;28mself\u001b[39m, img):\n\u001b[0;32m     94\u001b[0m     \u001b[38;5;28;01mfor\u001b[39;00m t \u001b[38;5;129;01min\u001b[39;00m \u001b[38;5;28mself\u001b[39m\u001b[38;5;241m.\u001b[39mtransforms:\n\u001b[1;32m---> 95\u001b[0m         img \u001b[38;5;241m=\u001b[39m \u001b[43mt\u001b[49m\u001b[43m(\u001b[49m\u001b[43mimg\u001b[49m\u001b[43m)\u001b[49m\n\u001b[0;32m     96\u001b[0m     \u001b[38;5;28;01mreturn\u001b[39;00m img\n",
      "File \u001b[1;32mc:\\Users\\sreeh\\AppData\\Local\\Programs\\Python\\Python312\\Lib\\site-packages\\torch\\nn\\modules\\module.py:1739\u001b[0m, in \u001b[0;36mModule._wrapped_call_impl\u001b[1;34m(self, *args, **kwargs)\u001b[0m\n\u001b[0;32m   1737\u001b[0m     \u001b[38;5;28;01mreturn\u001b[39;00m \u001b[38;5;28mself\u001b[39m\u001b[38;5;241m.\u001b[39m_compiled_call_impl(\u001b[38;5;241m*\u001b[39margs, \u001b[38;5;241m*\u001b[39m\u001b[38;5;241m*\u001b[39mkwargs)  \u001b[38;5;66;03m# type: ignore[misc]\u001b[39;00m\n\u001b[0;32m   1738\u001b[0m \u001b[38;5;28;01melse\u001b[39;00m:\n\u001b[1;32m-> 1739\u001b[0m     \u001b[38;5;28;01mreturn\u001b[39;00m \u001b[38;5;28;43mself\u001b[39;49m\u001b[38;5;241;43m.\u001b[39;49m\u001b[43m_call_impl\u001b[49m\u001b[43m(\u001b[49m\u001b[38;5;241;43m*\u001b[39;49m\u001b[43margs\u001b[49m\u001b[43m,\u001b[49m\u001b[43m \u001b[49m\u001b[38;5;241;43m*\u001b[39;49m\u001b[38;5;241;43m*\u001b[39;49m\u001b[43mkwargs\u001b[49m\u001b[43m)\u001b[49m\n",
      "File \u001b[1;32mc:\\Users\\sreeh\\AppData\\Local\\Programs\\Python\\Python312\\Lib\\site-packages\\torch\\nn\\modules\\module.py:1750\u001b[0m, in \u001b[0;36mModule._call_impl\u001b[1;34m(self, *args, **kwargs)\u001b[0m\n\u001b[0;32m   1745\u001b[0m \u001b[38;5;66;03m# If we don't have any hooks, we want to skip the rest of the logic in\u001b[39;00m\n\u001b[0;32m   1746\u001b[0m \u001b[38;5;66;03m# this function, and just call forward.\u001b[39;00m\n\u001b[0;32m   1747\u001b[0m \u001b[38;5;28;01mif\u001b[39;00m \u001b[38;5;129;01mnot\u001b[39;00m (\u001b[38;5;28mself\u001b[39m\u001b[38;5;241m.\u001b[39m_backward_hooks \u001b[38;5;129;01mor\u001b[39;00m \u001b[38;5;28mself\u001b[39m\u001b[38;5;241m.\u001b[39m_backward_pre_hooks \u001b[38;5;129;01mor\u001b[39;00m \u001b[38;5;28mself\u001b[39m\u001b[38;5;241m.\u001b[39m_forward_hooks \u001b[38;5;129;01mor\u001b[39;00m \u001b[38;5;28mself\u001b[39m\u001b[38;5;241m.\u001b[39m_forward_pre_hooks\n\u001b[0;32m   1748\u001b[0m         \u001b[38;5;129;01mor\u001b[39;00m _global_backward_pre_hooks \u001b[38;5;129;01mor\u001b[39;00m _global_backward_hooks\n\u001b[0;32m   1749\u001b[0m         \u001b[38;5;129;01mor\u001b[39;00m _global_forward_hooks \u001b[38;5;129;01mor\u001b[39;00m _global_forward_pre_hooks):\n\u001b[1;32m-> 1750\u001b[0m     \u001b[38;5;28;01mreturn\u001b[39;00m \u001b[43mforward_call\u001b[49m\u001b[43m(\u001b[49m\u001b[38;5;241;43m*\u001b[39;49m\u001b[43margs\u001b[49m\u001b[43m,\u001b[49m\u001b[43m \u001b[49m\u001b[38;5;241;43m*\u001b[39;49m\u001b[38;5;241;43m*\u001b[39;49m\u001b[43mkwargs\u001b[49m\u001b[43m)\u001b[49m\n\u001b[0;32m   1752\u001b[0m result \u001b[38;5;241m=\u001b[39m \u001b[38;5;28;01mNone\u001b[39;00m\n\u001b[0;32m   1753\u001b[0m called_always_called_hooks \u001b[38;5;241m=\u001b[39m \u001b[38;5;28mset\u001b[39m()\n",
      "File \u001b[1;32mc:\\Users\\sreeh\\AppData\\Local\\Programs\\Python\\Python312\\Lib\\site-packages\\torchvision\\transforms\\transforms.py:354\u001b[0m, in \u001b[0;36mResize.forward\u001b[1;34m(self, img)\u001b[0m\n\u001b[0;32m    346\u001b[0m \u001b[38;5;28;01mdef\u001b[39;00m\u001b[38;5;250m \u001b[39m\u001b[38;5;21mforward\u001b[39m(\u001b[38;5;28mself\u001b[39m, img):\n\u001b[0;32m    347\u001b[0m \u001b[38;5;250m    \u001b[39m\u001b[38;5;124;03m\"\"\"\u001b[39;00m\n\u001b[0;32m    348\u001b[0m \u001b[38;5;124;03m    Args:\u001b[39;00m\n\u001b[0;32m    349\u001b[0m \u001b[38;5;124;03m        img (PIL Image or Tensor): Image to be scaled.\u001b[39;00m\n\u001b[1;32m   (...)\u001b[0m\n\u001b[0;32m    352\u001b[0m \u001b[38;5;124;03m        PIL Image or Tensor: Rescaled image.\u001b[39;00m\n\u001b[0;32m    353\u001b[0m \u001b[38;5;124;03m    \"\"\"\u001b[39;00m\n\u001b[1;32m--> 354\u001b[0m     \u001b[38;5;28;01mreturn\u001b[39;00m \u001b[43mF\u001b[49m\u001b[38;5;241;43m.\u001b[39;49m\u001b[43mresize\u001b[49m\u001b[43m(\u001b[49m\u001b[43mimg\u001b[49m\u001b[43m,\u001b[49m\u001b[43m \u001b[49m\u001b[38;5;28;43mself\u001b[39;49m\u001b[38;5;241;43m.\u001b[39;49m\u001b[43msize\u001b[49m\u001b[43m,\u001b[49m\u001b[43m \u001b[49m\u001b[38;5;28;43mself\u001b[39;49m\u001b[38;5;241;43m.\u001b[39;49m\u001b[43minterpolation\u001b[49m\u001b[43m,\u001b[49m\u001b[43m \u001b[49m\u001b[38;5;28;43mself\u001b[39;49m\u001b[38;5;241;43m.\u001b[39;49m\u001b[43mmax_size\u001b[49m\u001b[43m,\u001b[49m\u001b[43m \u001b[49m\u001b[38;5;28;43mself\u001b[39;49m\u001b[38;5;241;43m.\u001b[39;49m\u001b[43mantialias\u001b[49m\u001b[43m)\u001b[49m\n",
      "File \u001b[1;32mc:\\Users\\sreeh\\AppData\\Local\\Programs\\Python\\Python312\\Lib\\site-packages\\torchvision\\transforms\\functional.py:477\u001b[0m, in \u001b[0;36mresize\u001b[1;34m(img, size, interpolation, max_size, antialias)\u001b[0m\n\u001b[0;32m    475\u001b[0m         warnings\u001b[38;5;241m.\u001b[39mwarn(\u001b[38;5;124m\"\u001b[39m\u001b[38;5;124mAnti-alias option is always applied for PIL Image input. Argument antialias is ignored.\u001b[39m\u001b[38;5;124m\"\u001b[39m)\n\u001b[0;32m    476\u001b[0m     pil_interpolation \u001b[38;5;241m=\u001b[39m pil_modes_mapping[interpolation]\n\u001b[1;32m--> 477\u001b[0m     \u001b[38;5;28;01mreturn\u001b[39;00m \u001b[43mF_pil\u001b[49m\u001b[38;5;241;43m.\u001b[39;49m\u001b[43mresize\u001b[49m\u001b[43m(\u001b[49m\u001b[43mimg\u001b[49m\u001b[43m,\u001b[49m\u001b[43m \u001b[49m\u001b[43msize\u001b[49m\u001b[38;5;241;43m=\u001b[39;49m\u001b[43moutput_size\u001b[49m\u001b[43m,\u001b[49m\u001b[43m \u001b[49m\u001b[43minterpolation\u001b[49m\u001b[38;5;241;43m=\u001b[39;49m\u001b[43mpil_interpolation\u001b[49m\u001b[43m)\u001b[49m\n\u001b[0;32m    479\u001b[0m \u001b[38;5;28;01mreturn\u001b[39;00m F_t\u001b[38;5;241m.\u001b[39mresize(img, size\u001b[38;5;241m=\u001b[39moutput_size, interpolation\u001b[38;5;241m=\u001b[39minterpolation\u001b[38;5;241m.\u001b[39mvalue, antialias\u001b[38;5;241m=\u001b[39mantialias)\n",
      "File \u001b[1;32mc:\\Users\\sreeh\\AppData\\Local\\Programs\\Python\\Python312\\Lib\\site-packages\\torchvision\\transforms\\_functional_pil.py:250\u001b[0m, in \u001b[0;36mresize\u001b[1;34m(img, size, interpolation)\u001b[0m\n\u001b[0;32m    247\u001b[0m \u001b[38;5;28;01mif\u001b[39;00m \u001b[38;5;129;01mnot\u001b[39;00m (\u001b[38;5;28misinstance\u001b[39m(size, \u001b[38;5;28mlist\u001b[39m) \u001b[38;5;129;01mand\u001b[39;00m \u001b[38;5;28mlen\u001b[39m(size) \u001b[38;5;241m==\u001b[39m \u001b[38;5;241m2\u001b[39m):\n\u001b[0;32m    248\u001b[0m     \u001b[38;5;28;01mraise\u001b[39;00m \u001b[38;5;167;01mTypeError\u001b[39;00m(\u001b[38;5;124mf\u001b[39m\u001b[38;5;124m\"\u001b[39m\u001b[38;5;124mGot inappropriate size arg: \u001b[39m\u001b[38;5;132;01m{\u001b[39;00msize\u001b[38;5;132;01m}\u001b[39;00m\u001b[38;5;124m\"\u001b[39m)\n\u001b[1;32m--> 250\u001b[0m \u001b[38;5;28;01mreturn\u001b[39;00m \u001b[43mimg\u001b[49m\u001b[38;5;241;43m.\u001b[39;49m\u001b[43mresize\u001b[49m\u001b[43m(\u001b[49m\u001b[38;5;28;43mtuple\u001b[39;49m\u001b[43m(\u001b[49m\u001b[43msize\u001b[49m\u001b[43m[\u001b[49m\u001b[43m:\u001b[49m\u001b[43m:\u001b[49m\u001b[38;5;241;43m-\u001b[39;49m\u001b[38;5;241;43m1\u001b[39;49m\u001b[43m]\u001b[49m\u001b[43m)\u001b[49m\u001b[43m,\u001b[49m\u001b[43m \u001b[49m\u001b[43minterpolation\u001b[49m\u001b[43m)\u001b[49m\n",
      "File \u001b[1;32mc:\\Users\\sreeh\\AppData\\Local\\Programs\\Python\\Python312\\Lib\\site-packages\\PIL\\Image.py:2321\u001b[0m, in \u001b[0;36mImage.resize\u001b[1;34m(self, size, resample, box, reducing_gap)\u001b[0m\n\u001b[0;32m   2309\u001b[0m         \u001b[38;5;28mself\u001b[39m \u001b[38;5;241m=\u001b[39m (\n\u001b[0;32m   2310\u001b[0m             \u001b[38;5;28mself\u001b[39m\u001b[38;5;241m.\u001b[39mreduce(factor, box\u001b[38;5;241m=\u001b[39mreduce_box)\n\u001b[0;32m   2311\u001b[0m             \u001b[38;5;28;01mif\u001b[39;00m \u001b[38;5;28mcallable\u001b[39m(\u001b[38;5;28mself\u001b[39m\u001b[38;5;241m.\u001b[39mreduce)\n\u001b[0;32m   2312\u001b[0m             \u001b[38;5;28;01melse\u001b[39;00m Image\u001b[38;5;241m.\u001b[39mreduce(\u001b[38;5;28mself\u001b[39m, factor, box\u001b[38;5;241m=\u001b[39mreduce_box)\n\u001b[0;32m   2313\u001b[0m         )\n\u001b[0;32m   2314\u001b[0m         box \u001b[38;5;241m=\u001b[39m (\n\u001b[0;32m   2315\u001b[0m             (box[\u001b[38;5;241m0\u001b[39m] \u001b[38;5;241m-\u001b[39m reduce_box[\u001b[38;5;241m0\u001b[39m]) \u001b[38;5;241m/\u001b[39m factor_x,\n\u001b[0;32m   2316\u001b[0m             (box[\u001b[38;5;241m1\u001b[39m] \u001b[38;5;241m-\u001b[39m reduce_box[\u001b[38;5;241m1\u001b[39m]) \u001b[38;5;241m/\u001b[39m factor_y,\n\u001b[0;32m   2317\u001b[0m             (box[\u001b[38;5;241m2\u001b[39m] \u001b[38;5;241m-\u001b[39m reduce_box[\u001b[38;5;241m0\u001b[39m]) \u001b[38;5;241m/\u001b[39m factor_x,\n\u001b[0;32m   2318\u001b[0m             (box[\u001b[38;5;241m3\u001b[39m] \u001b[38;5;241m-\u001b[39m reduce_box[\u001b[38;5;241m1\u001b[39m]) \u001b[38;5;241m/\u001b[39m factor_y,\n\u001b[0;32m   2319\u001b[0m         )\n\u001b[1;32m-> 2321\u001b[0m \u001b[38;5;28;01mreturn\u001b[39;00m \u001b[38;5;28mself\u001b[39m\u001b[38;5;241m.\u001b[39m_new(\u001b[38;5;28;43mself\u001b[39;49m\u001b[38;5;241;43m.\u001b[39;49m\u001b[43mim\u001b[49m\u001b[38;5;241;43m.\u001b[39;49m\u001b[43mresize\u001b[49m\u001b[43m(\u001b[49m\u001b[43msize\u001b[49m\u001b[43m,\u001b[49m\u001b[43m \u001b[49m\u001b[43mresample\u001b[49m\u001b[43m,\u001b[49m\u001b[43m \u001b[49m\u001b[43mbox\u001b[49m\u001b[43m)\u001b[49m)\n",
      "\u001b[1;31mKeyboardInterrupt\u001b[0m: "
     ]
    }
   ],
   "source": [
    "# =============================================================================\n",
    "# CELL 3: STAGE 3 - FINE-TUNING\n",
    "# =============================================================================\n",
    "print(\"\\n\" + \"=\"*80)\n",
    "print(\"### EXECUTING CELL 3: STAGE 3 - FINE-TUNING ###\".center(80))\n",
    "print(\"=\"*80)\n",
    "\n",
    "# 1. Load Data for Stage 3\n",
    "train_loader_s3, val_loader_s3, _, num_classes_s3, _ = get_data_loaders(\n",
    "    config['base_dir'], config['img_size'], config['stage3_batch_size'], config['num_workers']\n",
    ")\n",
    "\n",
    "# 2. Initialize Model and Load Stage 2 Weights\n",
    "model_s3 = TransformersClassifier(config['model_name'], num_classes_s3).to(device)\n",
    "print(f\"Loading weights from Stage 2: {config['stage3_load_path']}\")\n",
    "checkpoint_s3 = torch.load(config['stage3_load_path'], map_location=device)\n",
    "model_s3.load_state_dict(checkpoint_s3['model_state_dict'])\n",
    "\n",
    "# 3. Setup Optimizer with Very Low LR\n",
    "optimizer_s3 = optim.AdamW(model_s3.parameters(), lr=config['stage3_lr'], weight_decay=1e-6)\n",
    "# CORRECTED: Changed T_eta_min to eta_min\n",
    "scheduler_s3 = optim.lr_scheduler.CosineAnnealingLR(optimizer_s3, eta_min=1e-7, T_max=config['stage3_epochs'])\n",
    "criterion_s3 = nn.CrossEntropyLoss()\n",
    "\n",
    "# 4. Training Loop with Early Stopping\n",
    "best_val_accuracy_s3 = 0.0\n",
    "epochs_no_improve_s3 = 0\n",
    "for epoch in range(config['stage3_epochs']):\n",
    "    print(f\"\\n--- Stage 3, Epoch {epoch+1}/{config['stage3_epochs']} ---\")\n",
    "    train_loss = train_one_epoch(model_s3, train_loader_s3, optimizer_s3, criterion_s3, device, desc=\"Finetune\")\n",
    "    val_loss, val_acc = validate(model_s3, val_loader_s3, criterion_s3, device, desc=\"Finetune\")\n",
    "    scheduler_s3.step()\n",
    "    print(f\"Train Loss: {train_loss:.4f} | Val Loss: {val_loss:.4f}, Val Acc: {val_acc:.2%}\")\n",
    "    if val_acc > best_val_accuracy_s3:\n",
    "        print(f\"🎉 New best val acc: {val_acc:.2%}. Saving final model...\")\n",
    "        best_val_accuracy_s3 = val_acc\n",
    "        torch.save({'model_state_dict': model_s3.state_dict()}, config['stage3_save_path'])\n",
    "        epochs_no_improve_s3 = 0\n",
    "    else:\n",
    "        epochs_no_improve_s3 += 1\n",
    "        if epochs_no_improve_s3 >= config['stage3_patience']:\n",
    "            print(f\"\\nStopping early after {config['stage3_patience']} epochs with no improvement.\")\n",
    "            break\n",
    "\n",
    "print(f\"\\n✅ Stage 3 Complete. Best accuracy: {best_val_accuracy_s3:.2%}. Final model saved to {config['stage3_save_path']}\")\n",
    "print(\"\\n\" + \"=\"*80)\n",
    "print(\"### ALL TRAINING STAGES COMPLETE ###\".center(80))\n",
    "print(\"=\"*80)"
   ]
  },
  {
   "cell_type": "code",
   "execution_count": 8,
   "id": "20719595",
   "metadata": {},
   "outputs": [
    {
     "name": "stdout",
     "output_type": "stream",
     "text": [
      "\n",
      "================================================================================\n",
      "            ### EXECUTING CELL 4: FINAL EVALUATION ON TEST DATA ###             \n",
      "================================================================================\n",
      "Splitting 928 total images into: 649 Train, 139 Val, 140 Test\n",
      "Loading best fine-tuned model from: best_finetuned_model.pth\n"
     ]
    },
    {
     "name": "stderr",
     "output_type": "stream",
     "text": [
      "Evaluating on Test Set: 100%|██████████| 9/9 [00:12<00:00,  1.41s/it]\n"
     ]
    },
    {
     "name": "stdout",
     "output_type": "stream",
     "text": [
      "\n",
      "================================================================================\n",
      "                    🏆 FINAL MODEL PERFORMANCE ON TEST SET 🏆                     \n",
      "================================================================================\n",
      "\n",
      "Overall Test Accuracy: 0.8786 (87.86%)\n",
      "\n",
      "Classification Report:\n",
      "                 precision    recall  f1-score   support\n",
      "\n",
      "       1.pataka     1.0000    1.0000    1.0000         5\n",
      "    10.hamsasya     0.8333    0.7143    0.7692         7\n",
      "      11.anjali     1.0000    0.8750    0.9333         8\n",
      "12.ardhachandra     0.6667    0.8000    0.7273         5\n",
      "      13.mukura     0.7500    0.6000    0.6667         5\n",
      "    14.bhramara     1.0000    0.9091    0.9524        11\n",
      "  15.suchimukha     0.8750    1.0000    0.9333         7\n",
      "     16.pallava     1.0000    1.0000    1.0000         4\n",
      "   17.tripataka     0.7143    0.8333    0.7692         6\n",
      " 18.mrigasirsha     1.0000    0.7500    0.8571         8\n",
      "  19.sarpasiras     0.6000    1.0000    0.7500         3\n",
      "    2.mudrakhya     0.8000    1.0000    0.8889         4\n",
      "20.vardhamanaka     1.0000    1.0000    1.0000         2\n",
      "       21.arala     1.0000    0.6667    0.8000         3\n",
      "   22.urnanabha     0.8333    1.0000    0.9091         5\n",
      "      23.mukula     1.0000    0.8000    0.8889         5\n",
      " 24.katakamukha     1.0000    0.7143    0.8333         7\n",
      "       3.kataka     0.8571    0.8571    0.8571         7\n",
      "       4.mushti     1.0000    1.0000    1.0000         6\n",
      " 5.kartarimukha     1.0000    0.7500    0.8571         8\n",
      "    6.sukatunda     1.0000    1.0000    1.0000         5\n",
      "     7.kapittha     1.0000    1.0000    1.0000         5\n",
      "  8.hamsapaksha     0.5000    1.0000    0.6667         3\n",
      "      9.sikhara     0.8462    1.0000    0.9167        11\n",
      "\n",
      "       accuracy                         0.8786       140\n",
      "      macro avg     0.8865    0.8862    0.8740       140\n",
      "   weighted avg     0.9022    0.8786    0.8805       140\n",
      "\n",
      "================================================================================\n"
     ]
    },
    {
     "data": {
      "image/png": "[encoded data removed]",
      "text/plain": [
       "<Figure size 1000x800 with 2 Axes>"
      ]
     },
     "metadata": {},
     "output_type": "display_data"
    },
    {
     "data": {
      "image/png": "[encoded data removed]",
      "text/plain": [
       "<Figure size 1000x500 with 1 Axes>"
      ]
     },
     "metadata": {},
     "output_type": "display_data"
    }
   ],
   "source": [
    "# =============================================================================\n",
    "# CELL 4: EVALUATION ON TEST DATA (ENHANCED WITH VISUALIZATIONS)\n",
    "# =============================================================================\n",
    "import torch\n",
    "from sklearn.metrics import classification_report, confusion_matrix, accuracy_score\n",
    "import matplotlib.pyplot as plt\n",
    "import seaborn as sns\n",
    "from tqdm import tqdm\n",
    "from sklearn.manifold import TSNE\n",
    "from sklearn.decomposition import PCA\n",
    "import numpy as np\n",
    "\n",
    "print(\"\\n\" + \"=\"*80)\n",
    "print(\"### EXECUTING CELL 4: FINAL EVALUATION ON TEST DATA ###\".center(80))\n",
    "print(\"=\"*80)\n",
    "\n",
    "# 1. Regenerate test loader\n",
    "_, _, test_loader_final, num_classes_final, class_names_final = get_data_loaders(\n",
    "    config['base_dir'], config['img_size'], config['stage3_batch_size'], config['num_workers']\n",
    ")\n",
    "\n",
    "# 2. Define evaluation function\n",
    "def evaluate_on_test(model, loader, device, class_names):\n",
    "    \"\"\"Evaluates model on test set and plots detailed metrics.\"\"\"\n",
    "    model.eval()\n",
    "    all_preds, all_labels, all_features = [], [], []\n",
    "    \n",
    "    with torch.no_grad():\n",
    "        for inputs, labels in tqdm(loader, desc=\"Evaluating on Test Set\"):\n",
    "            inputs = inputs.to(device)\n",
    "            outputs = model(inputs)\n",
    "            \n",
    "            # Store features (before final layer) if model returns them\n",
    "            if hasattr(model, 'extract_features'):\n",
    "                feats = model.extract_features(inputs).cpu().numpy()\n",
    "                all_features.append(feats)\n",
    "            \n",
    "            all_preds.extend(outputs.argmax(1).cpu().numpy())\n",
    "            all_labels.extend(labels.numpy())\n",
    "\n",
    "    # Flatten feature arrays if collected\n",
    "    if len(all_features) > 0:\n",
    "        all_features = np.concatenate(all_features, axis=0)\n",
    "    else:\n",
    "        all_features = np.zeros((len(all_labels), 1))\n",
    "\n",
    "    # Metrics\n",
    "    accuracy = accuracy_score(all_labels, all_preds)\n",
    "    report = classification_report(all_labels, all_preds, target_names=class_names, digits=4)\n",
    "    \n",
    "    print(\"\\n\" + \"=\"*80)\n",
    "    print(\"🏆 FINAL MODEL PERFORMANCE ON TEST SET 🏆\".center(80))\n",
    "    print(\"=\"*80)\n",
    "    print(f\"\\nOverall Test Accuracy: {accuracy:.4f} ({accuracy:.2%})\\n\")\n",
    "    print(\"Classification Report:\")\n",
    "    print(report)\n",
    "    print(\"=\"*80)\n",
    "    \n",
    "    # Confusion Matrix\n",
    "    cm = confusion_matrix(all_labels, all_preds)\n",
    "    plt.figure(figsize=(10, 8))\n",
    "    sns.heatmap(cm, annot=True, fmt=\"d\", cmap=\"Blues\",\n",
    "                xticklabels=class_names, yticklabels=class_names)\n",
    "    plt.title(\"Confusion Matrix\")\n",
    "    plt.xlabel(\"Predicted Label\")\n",
    "    plt.ylabel(\"True Label\")\n",
    "    plt.xticks(rotation=45, ha='right')\n",
    "    plt.tight_layout()\n",
    "    plt.show()\n",
    "\n",
    "    # Per-Class Accuracy\n",
    "    per_class_acc = cm.diagonal() / cm.sum(axis=1)\n",
    "    plt.figure(figsize=(10, 5))\n",
    "    sns.barplot(x=class_names, y=per_class_acc)\n",
    "    plt.title(\"Per-Class Accuracy\")\n",
    "    plt.ylabel(\"Accuracy\")\n",
    "    plt.ylim(0, 1)\n",
    "    plt.xticks(rotation=45, ha='right')\n",
    "    plt.tight_layout()\n",
    "    plt.show()\n",
    "\n",
    "    # Scatter Visualization using t-SNE or PCA if features exist\n",
    "    if all_features.shape[1] > 1:\n",
    "        print(\"\\nGenerating 2D feature scatter visualization (t-SNE)...\")\n",
    "        try:\n",
    "            tsne = TSNE(n_components=2, random_state=42, perplexity=30)\n",
    "            reduced = tsne.fit_transform(all_features)\n",
    "        except Exception:\n",
    "            print(\"t-SNE failed (possibly too large); using PCA instead.\")\n",
    "            pca = PCA(n_components=2)\n",
    "            reduced = pca.fit_transform(all_features)\n",
    "\n",
    "        plt.figure(figsize=(10, 8))\n",
    "        scatter = plt.scatter(reduced[:, 0], reduced[:, 1], c=all_labels, cmap='tab20', alpha=0.7)\n",
    "        plt.title(\"Feature Embedding Visualization (t-SNE/PCA)\")\n",
    "        plt.colorbar(scatter, ticks=range(len(class_names)))\n",
    "        plt.clim(-0.5, len(class_names)-0.5)\n",
    "        plt.show()\n",
    "\n",
    "# 3. Load model and evaluate\n",
    "final_model = TransformersClassifier(config['model_name'], num_classes_final).to(device)\n",
    "print(f\"Loading best fine-tuned model from: {config['stage3_save_path']}\")\n",
    "final_checkpoint = torch.load(config['stage3_save_path'], map_location=device)\n",
    "final_model.load_state_dict(final_checkpoint['model_state_dict'])\n",
    "\n",
    "evaluate_on_test(final_model, test_loader_final, device, class_names_final)\n"
   ]
  }
 ],
 "metadata": {
  "kernelspec": {
   "display_name": "Python 3",
   "language": "python",
   "name": "python3"
  },
  "language_info": {
   "codemirror_mode": {
    "name": "ipython",
    "version": 3
   },
   "file_extension": ".py",
   "mimetype": "text/x-python",
   "name": "python",
   "nbconvert_exporter": "python",
   "pygments_lexer": "ipython3",
   "version": "3.12.10"
  }
 },
 "nbformat": 4,
 "nbformat_minor": 5
}
